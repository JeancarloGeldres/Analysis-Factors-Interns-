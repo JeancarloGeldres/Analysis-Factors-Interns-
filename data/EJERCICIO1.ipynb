{
 "cells": [
  {
   "cell_type": "code",
   "execution_count": 1,
   "id": "af06eea2",
   "metadata": {},
   "outputs": [],
   "source": [
    "import pandas as pd # La usamos para manejar la base de datos (y también graficar) https://pandas.pydata.org/docs/\n",
    "\n",
    "import matplotlib.pylab as plt # Herramienta principal de visualización https://matplotlib.org/stable/contents.html\n",
    "import matplotlib.dates as mdates # Dentro de matplotlib, tenemos una herramienta para manejo de fechas \n",
    "import seaborn as sbn # Herramienta complementaria de visualización https://seaborn.pydata.org/\n",
    "\n",
    "\n",
    "from ipywidgets import interact, interactive, fixed, interact_manual, interactive_output\n",
    "import ipywidgets as widgets # Podemos ganar interactividad en la misma notebook https://ipywidgets.readthedocs.io/en/latest/\n",
    "\n",
    "\n",
    "\n",
    "import numpy as np # Siempre resulta que la usamos\n"
   ]
  },
  {
   "cell_type": "code",
   "execution_count": 2,
   "id": "7ae81e4c",
   "metadata": {},
   "outputs": [],
   "source": [
    "filename = 'C:/Users/Jean/Documents/GitHub/Analysis-Factors-Interns-/data/pbi/modelo.csv'"
   ]
  },
  {
   "cell_type": "code",
   "execution_count": 3,
   "id": "66d1848d",
   "metadata": {},
   "outputs": [
    {
     "data": {
      "text/html": [
       "<div>\n",
       "<style scoped>\n",
       "    .dataframe tbody tr th:only-of-type {\n",
       "        vertical-align: middle;\n",
       "    }\n",
       "\n",
       "    .dataframe tbody tr th {\n",
       "        vertical-align: top;\n",
       "    }\n",
       "\n",
       "    .dataframe thead th {\n",
       "        text-align: right;\n",
       "    }\n",
       "</style>\n",
       "<table border=\"1\" class=\"dataframe\">\n",
       "  <thead>\n",
       "    <tr style=\"text-align: right;\">\n",
       "      <th></th>\n",
       "      <th>paises</th>\n",
       "      <th>mes</th>\n",
       "      <th>year</th>\n",
       "      <th>ROA</th>\n",
       "      <th>SIZE</th>\n",
       "      <th>CAP</th>\n",
       "      <th>LOAN</th>\n",
       "      <th>DEP</th>\n",
       "      <th>PROV</th>\n",
       "    </tr>\n",
       "  </thead>\n",
       "  <tbody>\n",
       "    <tr>\n",
       "      <th>0</th>\n",
       "      <td>Banco Continental</td>\n",
       "      <td>enero</td>\n",
       "      <td>2014</td>\n",
       "      <td>-0.013965</td>\n",
       "      <td>0.015743</td>\n",
       "      <td>-0.021277</td>\n",
       "      <td>-0.003443</td>\n",
       "      <td>-0.022750</td>\n",
       "      <td>0.024337</td>\n",
       "    </tr>\n",
       "    <tr>\n",
       "      <th>1</th>\n",
       "      <td>Banco Continental</td>\n",
       "      <td>febrero</td>\n",
       "      <td>2014</td>\n",
       "      <td>-0.010738</td>\n",
       "      <td>-0.004098</td>\n",
       "      <td>0.000000</td>\n",
       "      <td>-0.011496</td>\n",
       "      <td>0.028613</td>\n",
       "      <td>0.016006</td>\n",
       "    </tr>\n",
       "    <tr>\n",
       "      <th>2</th>\n",
       "      <td>Banco Continental</td>\n",
       "      <td>marzo</td>\n",
       "      <td>2014</td>\n",
       "      <td>-0.001870</td>\n",
       "      <td>0.014318</td>\n",
       "      <td>-0.006441</td>\n",
       "      <td>-0.002783</td>\n",
       "      <td>-0.008801</td>\n",
       "      <td>-0.006415</td>\n",
       "    </tr>\n",
       "    <tr>\n",
       "      <th>3</th>\n",
       "      <td>Banco Continental</td>\n",
       "      <td>abril</td>\n",
       "      <td>2014</td>\n",
       "      <td>-0.001295</td>\n",
       "      <td>-0.009271</td>\n",
       "      <td>0.004052</td>\n",
       "      <td>-0.007343</td>\n",
       "      <td>0.021576</td>\n",
       "      <td>0.022557</td>\n",
       "    </tr>\n",
       "    <tr>\n",
       "      <th>4</th>\n",
       "      <td>Banco Continental</td>\n",
       "      <td>mayo</td>\n",
       "      <td>2014</td>\n",
       "      <td>-0.001231</td>\n",
       "      <td>0.008980</td>\n",
       "      <td>0.045198</td>\n",
       "      <td>-0.009992</td>\n",
       "      <td>0.001249</td>\n",
       "      <td>0.012161</td>\n",
       "    </tr>\n",
       "    <tr>\n",
       "      <th>...</th>\n",
       "      <td>...</td>\n",
       "      <td>...</td>\n",
       "      <td>...</td>\n",
       "      <td>...</td>\n",
       "      <td>...</td>\n",
       "      <td>...</td>\n",
       "      <td>...</td>\n",
       "      <td>...</td>\n",
       "      <td>...</td>\n",
       "    </tr>\n",
       "    <tr>\n",
       "      <th>891</th>\n",
       "      <td>Banco Azteca</td>\n",
       "      <td>diciembre</td>\n",
       "      <td>2018</td>\n",
       "      <td>0.031409</td>\n",
       "      <td>-0.006974</td>\n",
       "      <td>0.014571</td>\n",
       "      <td>0.019927</td>\n",
       "      <td>0.001924</td>\n",
       "      <td>-0.041961</td>\n",
       "    </tr>\n",
       "    <tr>\n",
       "      <th>892</th>\n",
       "      <td>Banco Azteca</td>\n",
       "      <td>enero</td>\n",
       "      <td>2019</td>\n",
       "      <td>-0.178337</td>\n",
       "      <td>-0.000276</td>\n",
       "      <td>-0.009848</td>\n",
       "      <td>0.024145</td>\n",
       "      <td>0.014615</td>\n",
       "      <td>-0.052837</td>\n",
       "    </tr>\n",
       "    <tr>\n",
       "      <th>893</th>\n",
       "      <td>Banco Azteca</td>\n",
       "      <td>febrero</td>\n",
       "      <td>2019</td>\n",
       "      <td>-0.159987</td>\n",
       "      <td>-0.021146</td>\n",
       "      <td>-0.034811</td>\n",
       "      <td>0.019368</td>\n",
       "      <td>-0.001889</td>\n",
       "      <td>0.028049</td>\n",
       "    </tr>\n",
       "    <tr>\n",
       "      <th>894</th>\n",
       "      <td>Banco Azteca</td>\n",
       "      <td>marzo</td>\n",
       "      <td>2019</td>\n",
       "      <td>0.188452</td>\n",
       "      <td>0.003334</td>\n",
       "      <td>0.001288</td>\n",
       "      <td>0.016775</td>\n",
       "      <td>-0.010945</td>\n",
       "      <td>-0.009681</td>\n",
       "    </tr>\n",
       "    <tr>\n",
       "      <th>895</th>\n",
       "      <td>Banco Azteca</td>\n",
       "      <td>abril</td>\n",
       "      <td>2019</td>\n",
       "      <td>-0.015154</td>\n",
       "      <td>0.003013</td>\n",
       "      <td>0.001286</td>\n",
       "      <td>0.014298</td>\n",
       "      <td>-0.001579</td>\n",
       "      <td>0.027559</td>\n",
       "    </tr>\n",
       "  </tbody>\n",
       "</table>\n",
       "<p>896 rows × 9 columns</p>\n",
       "</div>"
      ],
      "text/plain": [
       "                paises        mes  year       ROA      SIZE       CAP  \\\n",
       "0    Banco Continental     enero   2014 -0.013965  0.015743 -0.021277   \n",
       "1    Banco Continental    febrero  2014 -0.010738 -0.004098  0.000000   \n",
       "2    Banco Continental      marzo  2014 -0.001870  0.014318 -0.006441   \n",
       "3    Banco Continental      abril  2014 -0.001295 -0.009271  0.004052   \n",
       "4    Banco Continental       mayo  2014 -0.001231  0.008980  0.045198   \n",
       "..                 ...        ...   ...       ...       ...       ...   \n",
       "891       Banco Azteca  diciembre  2018  0.031409 -0.006974  0.014571   \n",
       "892       Banco Azteca     enero   2019 -0.178337 -0.000276 -0.009848   \n",
       "893       Banco Azteca    febrero  2019 -0.159987 -0.021146 -0.034811   \n",
       "894       Banco Azteca      marzo  2019  0.188452  0.003334  0.001288   \n",
       "895       Banco Azteca      abril  2019 -0.015154  0.003013  0.001286   \n",
       "\n",
       "         LOAN       DEP      PROV  \n",
       "0   -0.003443 -0.022750  0.024337  \n",
       "1   -0.011496  0.028613  0.016006  \n",
       "2   -0.002783 -0.008801 -0.006415  \n",
       "3   -0.007343  0.021576  0.022557  \n",
       "4   -0.009992  0.001249  0.012161  \n",
       "..        ...       ...       ...  \n",
       "891  0.019927  0.001924 -0.041961  \n",
       "892  0.024145  0.014615 -0.052837  \n",
       "893  0.019368 -0.001889  0.028049  \n",
       "894  0.016775 -0.010945 -0.009681  \n",
       "895  0.014298 -0.001579  0.027559  \n",
       "\n",
       "[896 rows x 9 columns]"
      ]
     },
     "execution_count": 3,
     "metadata": {},
     "output_type": "execute_result"
    }
   ],
   "source": [
    "d_1 = pd.read_csv(filename)\n",
    "d_1"
   ]
  },
  {
   "cell_type": "code",
   "execution_count": 4,
   "id": "daa611e7",
   "metadata": {},
   "outputs": [],
   "source": [
    "# cargamos las funciones necesarias\n",
    "from sklearn.linear_model import LinearRegression\n",
    "from sklearn.model_selection import train_test_split"
   ]
  },
  {
   "cell_type": "code",
   "execution_count": 6,
   "id": "ba6fcdd3",
   "metadata": {},
   "outputs": [],
   "source": [
    "columnas_interes = ['SIZE','CAP']\n",
    "columnas_interes2 = ['ROA']\n",
    "X = d_1[columnas_interes]\n",
    "y = d_1[columnas_interes2]\n",
    "X_train, X_test, y_train, y_test = train_test_split(X, y, test_size = 0.2, random_state = 3)"
   ]
  },
  {
   "cell_type": "code",
   "execution_count": 8,
   "id": "8588a377",
   "metadata": {},
   "outputs": [
    {
     "data": {
      "text/plain": [
       "LinearRegression()"
      ]
     },
     "execution_count": 8,
     "metadata": {},
     "output_type": "execute_result"
    }
   ],
   "source": [
    "model = LinearRegression().fit(X_train, y_train)\n",
    "model"
   ]
  },
  {
   "cell_type": "code",
   "execution_count": 9,
   "id": "ce5d9917",
   "metadata": {},
   "outputs": [
    {
     "data": {
      "text/plain": [
       "0.007685882750810835"
      ]
     },
     "execution_count": 9,
     "metadata": {},
     "output_type": "execute_result"
    }
   ],
   "source": [
    "model.score(X_train, y_train)"
   ]
  },
  {
   "cell_type": "code",
   "execution_count": 10,
   "id": "2fa3e46e",
   "metadata": {},
   "outputs": [
    {
     "data": {
      "text/plain": [
       "array([[ 0.01281223],\n",
       "       [-0.00374795],\n",
       "       [-0.00120226],\n",
       "       [ 0.00493603],\n",
       "       [-0.00949746],\n",
       "       [-0.00223178],\n",
       "       [-0.00206041],\n",
       "       [ 0.02430063],\n",
       "       [-0.00831553],\n",
       "       [-0.03056728]])"
      ]
     },
     "execution_count": 10,
     "metadata": {},
     "output_type": "execute_result"
    }
   ],
   "source": [
    "model.predict(X_train[:10])"
   ]
  },
  {
   "cell_type": "code",
   "execution_count": null,
   "id": "4d454718",
   "metadata": {},
   "outputs": [],
   "source": []
  },
  {
   "cell_type": "code",
   "execution_count": null,
   "id": "5a602646",
   "metadata": {},
   "outputs": [],
   "source": []
  },
  {
   "cell_type": "code",
   "execution_count": null,
   "id": "a7920ddc",
   "metadata": {},
   "outputs": [],
   "source": []
  }
 ],
 "metadata": {
  "kernelspec": {
   "display_name": "Python 3",
   "language": "python",
   "name": "python3"
  },
  "language_info": {
   "codemirror_mode": {
    "name": "ipython",
    "version": 3
   },
   "file_extension": ".py",
   "mimetype": "text/x-python",
   "name": "python",
   "nbconvert_exporter": "python",
   "pygments_lexer": "ipython3",
   "version": "3.8.8"
  }
 },
 "nbformat": 4,
 "nbformat_minor": 5
}
